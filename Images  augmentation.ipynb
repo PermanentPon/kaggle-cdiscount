{
 "cells": [
  {
   "cell_type": "markdown",
   "metadata": {},
   "source": [
    "## 1. Data augmentation"
   ]
  },
  {
   "cell_type": "code",
   "execution_count": 2,
   "metadata": {},
   "outputs": [
    {
     "name": "stdout",
     "output_type": "stream",
     "text": [
      "950\n",
      "1114\n",
      "1527\n",
      "1589\n",
      "90\n"
     ]
    }
   ],
   "source": [
    "import os\n",
    "from keras.preprocessing.image import ImageDataGenerator\n",
    "\n",
    "folder = './data/files/train_single'\n",
    "out_folder = './data/files/train_single_aug'\n",
    "\n",
    "categories_1 = []\n",
    "categories_2 = []\n",
    "categories_3 = []\n",
    "categories_4 = []\n",
    "categories_5 = []\n",
    "\n",
    "categories_1_max = 15\n",
    "categories_2_max = 40\n",
    "categories_3_max = 150\n",
    "categories_4_max = 5000\n",
    "\n",
    "x = 3\n",
    "\n",
    "for category in os.listdir(folder):\n",
    "    files = os.listdir(os.path.join(folder, category))\n",
    "    length = len(files)\n",
    "    if length <= categories_1_max*x:\n",
    "        categories_1.append(category)\n",
    "    elif length <= categories_2_max*x: \n",
    "        categories_2.append(category)\n",
    "    elif length <= categories_3_max*x: \n",
    "        categories_3.append(category)\n",
    "    elif length <= categories_4_max*x: \n",
    "        categories_4.append(category)\n",
    "    else: \n",
    "        categories_5.append(category)\n",
    "\n",
    "print(len(categories_1))\n",
    "print(len(categories_2))\n",
    "print(len(categories_3))\n",
    "print(len(categories_4))\n",
    "print(len(categories_5))"
   ]
  },
  {
   "cell_type": "code",
   "execution_count": 3,
   "metadata": {},
   "outputs": [],
   "source": [
    "if not os.path.exists(out_folder):\n",
    "    os.makedirs(out_folder)\n",
    "\n",
    "datagen_aug = ImageDataGenerator(\n",
    "        rotation_range=10,\n",
    "        shear_range=0.2,\n",
    "        zoom_range=0.1,\n",
    "        horizontal_flip=True)"
   ]
  },
  {
   "cell_type": "code",
   "execution_count": 4,
   "metadata": {},
   "outputs": [],
   "source": [
    "def augment_images(batch_size, categories, multiplier):\n",
    "    for category in categories:\n",
    "        shutil.copytree(os.path.join(folder, category), os.path.join(out_folder, category))\n",
    "    i = 0\n",
    "    class2indices = dict(zip(categories, range(len(categories))))\n",
    "    indices2class = dict(zip(range(len(categories)), categories))\n",
    "    length = 0\n",
    "    for category in categories:\n",
    "        length += len(os.listdir(os.path.join(folder,category)))\n",
    "    for img_batch in datagen_aug.flow_from_directory(folder, class_mode = 'sparse', target_size=(180, 180),\n",
    "            batch_size=batch_size,\n",
    "            classes = categories):\n",
    "        for img, ind in zip(img_batch[0], img_batch[1]):\n",
    "            scipy.misc.imsave(os.path.join(out_folder, indices2class[ind], 'img' + str(i) +'.jpg'), img)\n",
    "            i+=1\n",
    "        if i > length*(multiplier-1):\n",
    "            break"
   ]
  },
  {
   "cell_type": "code",
   "execution_count": null,
   "metadata": {},
   "outputs": [
    {
     "name": "stdout",
     "output_type": "stream",
     "text": [
      "Found 25645 images belonging to 950 classes.\n"
     ]
    },
    {
     "name": "stderr",
     "output_type": "stream",
     "text": [
      "/home/pon/.local/lib/python3.5/site-packages/ipykernel_launcher.py:14: DeprecationWarning: `imsave` is deprecated!\n",
      "`imsave` is deprecated in SciPy 1.0.0, and will be removed in 1.2.0.\n",
      "Use ``imageio.imwrite`` instead.\n",
      "  \n"
     ]
    }
   ],
   "source": [
    "import scipy\n",
    "import shutil\n",
    "batch_size = 256\n",
    "augment_images(batch_size, categories_1, 8)"
   ]
  },
  {
   "cell_type": "code",
   "execution_count": null,
   "metadata": {
    "scrolled": true
   },
   "outputs": [],
   "source": [
    "augment_images(batch_size, categories_2, 4)\n",
    "augment_images(batch_size, categories_3, 2)"
   ]
  },
  {
   "cell_type": "code",
   "execution_count": null,
   "metadata": {},
   "outputs": [],
   "source": [
    "import shutil\n",
    "for category in categories_4:\n",
    "    shutil.copytree(os.path.join(folder, category), os.path.join(out_folder, category))"
   ]
  },
  {
   "cell_type": "code",
   "execution_count": 8,
   "metadata": {},
   "outputs": [],
   "source": [
    "import random\n",
    "for category in categories_5:\n",
    "    os.mkdir(os.path.join(out_folder, category))\n",
    "    files = os.listdir(os.path.join(folder, category))\n",
    "    for i in range(int(categories_4_max*x)):\n",
    "        file = files.pop(random.randrange(len(files)))\n",
    "        shutil.copy(os.path.join(folder, category, file), os.path.join(out_folder, category))"
   ]
  },
  {
   "cell_type": "markdown",
   "metadata": {},
   "source": [
    "## 2. Under and over sampling"
   ]
  },
  {
   "cell_type": "code",
   "execution_count": 3,
   "metadata": {},
   "outputs": [
    {
     "name": "stdout",
     "output_type": "stream",
     "text": [
      "353\n",
      "304\n",
      "188\n",
      "196\n",
      "13\n"
     ]
    }
   ],
   "source": [
    "import os\n",
    "from keras.preprocessing.image import ImageDataGenerator\n",
    "\n",
    "folder = './data/files/train_small_single'\n",
    "out_folder = './data/files/train_small_single_UOS'\n",
    "\n",
    "categories_1 = []\n",
    "categories_2 = []\n",
    "categories_3 = []\n",
    "categories_4 = []\n",
    "categories_5 = []\n",
    "\n",
    "x = 1\n",
    "\n",
    "for category in os.listdir(folder):\n",
    "    files = os.listdir(os.path.join(folder, category))\n",
    "    length = len(files)\n",
    "    if length <= 15*x:\n",
    "        categories_1.append(category)\n",
    "    elif length <= 50*x: \n",
    "        categories_2.append(category)\n",
    "    elif length <= 150*x: \n",
    "        categories_3.append(category)\n",
    "    elif length <= 5000*x: \n",
    "        categories_4.append(category)\n",
    "    else: \n",
    "        categories_5.append(category)\n",
    "\n",
    "print(len(categories_1))\n",
    "print(len(categories_2))\n",
    "print(len(categories_3))\n",
    "print(len(categories_4))\n",
    "print(len(categories_5))"
   ]
  },
  {
   "cell_type": "code",
   "execution_count": 4,
   "metadata": {},
   "outputs": [],
   "source": [
    "import shutil\n",
    "\n",
    "def add_images(categories, multiplier):\n",
    "    for category in categories:\n",
    "        shutil.copytree(os.path.join(folder, category), os.path.join(out_folder, category))\n",
    "        for i in range(multiplier - 1):\n",
    "            for file in os.listdir(os.path.join(folder, category)):\n",
    "                shutil.copyfile(os.path.join(folder, category, file), os.path.join(out_folder, category, str(i+1)+'_'+ file))"
   ]
  },
  {
   "cell_type": "code",
   "execution_count": 5,
   "metadata": {},
   "outputs": [],
   "source": [
    "add_images(categories_1, 4)\n",
    "add_images(categories_2, 3)\n",
    "add_images(categories_3, 2)\n",
    "add_images(categories_4, 1)"
   ]
  },
  {
   "cell_type": "code",
   "execution_count": 6,
   "metadata": {},
   "outputs": [],
   "source": [
    "import random\n",
    "for category in categories_5:\n",
    "    os.mkdir(os.path.join(out_folder, category))\n",
    "    files = os.listdir(os.path.join(folder, category))\n",
    "    for i in range(5000*x):\n",
    "        file = files.pop(random.randrange(len(files)))\n",
    "        shutil.copy(os.path.join(folder, category, file), os.path.join(out_folder, category))"
   ]
  },
  {
   "cell_type": "markdown",
   "metadata": {},
   "source": [
    "## X. Other"
   ]
  },
  {
   "cell_type": "code",
   "execution_count": 52,
   "metadata": {},
   "outputs": [
    {
     "name": "stdout",
     "output_type": "stream",
     "text": [
      "Epoch 1/1\n",
      "148/148 [==============================] - 19s - loss: 3.1945 - acc: 0.1216 - val_loss: 3.1704 - val_acc: 0.1382\n"
     ]
    },
    {
     "data": {
      "text/plain": [
       "<keras.callbacks.History at 0x7fe225daadd8>"
      ]
     },
     "execution_count": 52,
     "metadata": {},
     "output_type": "execute_result"
    }
   ],
   "source": [
    "train_generator_aug = datagen_aug.flow_from_directory(\n",
    "        folder,\n",
    "        target_size=(180, 180),\n",
    "        batch_size=batch_size,\n",
    "        classes = categories,\n",
    "        save_to_dir = out_folder,\n",
    "        save_prefix = 'aug')\n",
    "\n",
    "valid_generator_aug = datagen_aug.flow_from_directory(\n",
    "        './data/files/valid',\n",
    "        target_size=(180, 180),\n",
    "        batch_size=batch_size,\n",
    "        classes = small_categories)\n",
    "\n",
    "batch_size = 16\n",
    "model.fit_generator(\n",
    "    train_generator_aug,\n",
    "    epochs=1,\n",
    "    steps_per_epoch=1189//batch_size*2,\n",
    "    validation_data=valid_generator_aug,\n",
    "    validation_steps=315//batch_size,\n",
    "    workers = 1)"
   ]
  },
  {
   "cell_type": "code",
   "execution_count": null,
   "metadata": {
    "collapsed": true
   },
   "outputs": [],
   "source": []
  }
 ],
 "metadata": {
  "kernelspec": {
   "display_name": "Python 3",
   "language": "python",
   "name": "python3"
  },
  "language_info": {
   "codemirror_mode": {
    "name": "ipython",
    "version": 3
   },
   "file_extension": ".py",
   "mimetype": "text/x-python",
   "name": "python",
   "nbconvert_exporter": "python",
   "pygments_lexer": "ipython3",
   "version": "3.5.2"
  }
 },
 "nbformat": 4,
 "nbformat_minor": 2
}
