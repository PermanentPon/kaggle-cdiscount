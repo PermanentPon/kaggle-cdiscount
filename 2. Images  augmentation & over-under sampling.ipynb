{
 "cells": [
  {
   "cell_type": "markdown",
   "metadata": {},
   "source": [
    "This notebook allows to do over sampling with augmentation, so new instances are not the same. Also under-samling by capping the maximum number of images per category"
   ]
  },
  {
   "cell_type": "markdown",
   "metadata": {},
   "source": [
    "## 1. Data augmentation & over-under sampling"
   ]
  },
  {
   "cell_type": "code",
   "execution_count": 19,
   "metadata": {},
   "outputs": [
    {
     "name": "stdout",
     "output_type": "stream",
     "text": [
      "1321\n",
      "1140\n",
      "1435\n",
      "1310\n",
      "64\n"
     ]
    }
   ],
   "source": [
    "import os\n",
    "from keras.preprocessing.image import ImageDataGenerator\n",
    "\n",
    "folder = './data/files/train_additional'\n",
    "out_folder = './data/files/train_additional_aug'\n",
    "\n",
    "categories_1 = []\n",
    "categories_2 = []\n",
    "categories_3 = []\n",
    "categories_4 = []\n",
    "categories_5 = []\n",
    "\n",
    "categories_1_max = 15\n",
    "categories_2_max = 40\n",
    "categories_3_max = 150\n",
    "categories_4_max = 5000\n",
    "\n",
    "x = 3\n",
    "\n",
    "for category in os.listdir(folder):\n",
    "    files = os.listdir(os.path.join(folder, category))\n",
    "    length = len(files)\n",
    "    if length <= categories_1_max*x:\n",
    "        categories_1.append(category)\n",
    "    elif length <= categories_2_max*x: \n",
    "        categories_2.append(category)\n",
    "    elif length <= categories_3_max*x: \n",
    "        categories_3.append(category)\n",
    "    elif length <= categories_4_max*x: \n",
    "        categories_4.append(category)\n",
    "    else: \n",
    "        categories_5.append(category)\n",
    "\n",
    "print(len(categories_1))\n",
    "print(len(categories_2))\n",
    "print(len(categories_3))\n",
    "print(len(categories_4))\n",
    "print(len(categories_5))"
   ]
  },
  {
   "cell_type": "code",
   "execution_count": 20,
   "metadata": {},
   "outputs": [],
   "source": [
    "if not os.path.exists(out_folder):\n",
    "    os.makedirs(out_folder)\n",
    "\n",
    "datagen_aug = ImageDataGenerator(\n",
    "        rotation_range=10,\n",
    "        shear_range=0.2,\n",
    "        zoom_range=(0.9, 1.05),\n",
    "        horizontal_flip=True)"
   ]
  },
  {
   "cell_type": "code",
   "execution_count": 21,
   "metadata": {},
   "outputs": [],
   "source": [
    "def augment_images(batch_size, categories, multiplier):\n",
    "    for category in categories:\n",
    "        shutil.copytree(os.path.join(folder, category), os.path.join(out_folder, category))\n",
    "    i = 0\n",
    "    class2indices = dict(zip(categories, range(len(categories))))\n",
    "    indices2class = dict(zip(range(len(categories)), categories))\n",
    "    length = 0\n",
    "    for category in categories:\n",
    "        length += len(os.listdir(os.path.join(folder,category)))\n",
    "    for img_batch in datagen_aug.flow_from_directory(folder, class_mode = 'sparse', target_size=(180, 180),\n",
    "            batch_size=batch_size,\n",
    "            classes = categories):\n",
    "        for img, ind in zip(img_batch[0], img_batch[1]):\n",
    "            scipy.misc.imsave(os.path.join(out_folder, indices2class[ind], 'img' + str(i) +'.jpg'), img)\n",
    "            i+=1\n",
    "        if i > length*(multiplier-1):\n",
    "            break"
   ]
  },
  {
   "cell_type": "code",
   "execution_count": 22,
   "metadata": {},
   "outputs": [],
   "source": [
    "import scipy\n",
    "import shutil\n",
    "batch_size = 512"
   ]
  },
  {
   "cell_type": "code",
   "execution_count": 23,
   "metadata": {},
   "outputs": [
    {
     "name": "stdout",
     "output_type": "stream",
     "text": [
      "Found 28688 images belonging to 1321 classes.\n"
     ]
    },
    {
     "name": "stderr",
     "output_type": "stream",
     "text": [
      "/home/pon/.local/lib/python3.5/site-packages/ipykernel_launcher.py:14: DeprecationWarning: `imsave` is deprecated!\n",
      "`imsave` is deprecated in SciPy 1.0.0, and will be removed in 1.2.0.\n",
      "Use ``imageio.imwrite`` instead.\n",
      "  \n"
     ]
    }
   ],
   "source": [
    "augment_images(batch_size, categories_1, 8)"
   ]
  },
  {
   "cell_type": "code",
   "execution_count": 24,
   "metadata": {
    "scrolled": true
   },
   "outputs": [
    {
     "name": "stdout",
     "output_type": "stream",
     "text": [
      "Found 88479 images belonging to 1140 classes.\n"
     ]
    },
    {
     "name": "stderr",
     "output_type": "stream",
     "text": [
      "/home/pon/.local/lib/python3.5/site-packages/ipykernel_launcher.py:14: DeprecationWarning: `imsave` is deprecated!\n",
      "`imsave` is deprecated in SciPy 1.0.0, and will be removed in 1.2.0.\n",
      "Use ``imageio.imwrite`` instead.\n",
      "  \n"
     ]
    },
    {
     "name": "stdout",
     "output_type": "stream",
     "text": [
      "Found 345842 images belonging to 1435 classes.\n"
     ]
    }
   ],
   "source": [
    "augment_images(batch_size, categories_2, 4)\n",
    "augment_images(batch_size, categories_3, 2)"
   ]
  },
  {
   "cell_type": "code",
   "execution_count": 25,
   "metadata": {},
   "outputs": [],
   "source": [
    "import shutil\n",
    "for category in categories_4:\n",
    "    shutil.copytree(os.path.join(folder, category), os.path.join(out_folder, category))"
   ]
  },
  {
   "cell_type": "code",
   "execution_count": 26,
   "metadata": {},
   "outputs": [],
   "source": [
    "import random\n",
    "for category in categories_5:\n",
    "    os.mkdir(os.path.join(out_folder, category))\n",
    "    files = os.listdir(os.path.join(folder, category))\n",
    "    for i in range(int(categories_4_max*x)):\n",
    "        file = files.pop(random.randrange(len(files)))\n",
    "        shutil.copy(os.path.join(folder, category, file), os.path.join(out_folder, category))"
   ]
  },
  {
   "cell_type": "markdown",
   "metadata": {},
   "source": [
    "## 2. Under and over sampling"
   ]
  },
  {
   "cell_type": "markdown",
   "metadata": {},
   "source": [
    "Pure over under sampling without augmentation"
   ]
  },
  {
   "cell_type": "code",
   "execution_count": 3,
   "metadata": {},
   "outputs": [
    {
     "name": "stdout",
     "output_type": "stream",
     "text": [
      "353\n",
      "304\n",
      "188\n",
      "196\n",
      "13\n"
     ]
    }
   ],
   "source": [
    "import os\n",
    "from keras.preprocessing.image import ImageDataGenerator\n",
    "\n",
    "folder = './data/files/train_small_single'\n",
    "out_folder = './data/files/train_small_single_UOS'\n",
    "\n",
    "categories_1 = []\n",
    "categories_2 = []\n",
    "categories_3 = []\n",
    "categories_4 = []\n",
    "categories_5 = []\n",
    "\n",
    "x = 1\n",
    "\n",
    "for category in os.listdir(folder):\n",
    "    files = os.listdir(os.path.join(folder, category))\n",
    "    length = len(files)\n",
    "    if length <= 15*x:\n",
    "        categories_1.append(category)\n",
    "    elif length <= 50*x: \n",
    "        categories_2.append(category)\n",
    "    elif length <= 150*x: \n",
    "        categories_3.append(category)\n",
    "    elif length <= 5000*x: \n",
    "        categories_4.append(category)\n",
    "    else: \n",
    "        categories_5.append(category)\n",
    "\n",
    "print(len(categories_1))\n",
    "print(len(categories_2))\n",
    "print(len(categories_3))\n",
    "print(len(categories_4))\n",
    "print(len(categories_5))"
   ]
  },
  {
   "cell_type": "code",
   "execution_count": 4,
   "metadata": {},
   "outputs": [],
   "source": [
    "import shutil\n",
    "\n",
    "def add_images(categories, multiplier):\n",
    "    for category in categories:\n",
    "        shutil.copytree(os.path.join(folder, category), os.path.join(out_folder, category))\n",
    "        for i in range(multiplier - 1):\n",
    "            for file in os.listdir(os.path.join(folder, category)):\n",
    "                shutil.copyfile(os.path.join(folder, category, file), os.path.join(out_folder, category, str(i+1)+'_'+ file))"
   ]
  },
  {
   "cell_type": "code",
   "execution_count": 5,
   "metadata": {},
   "outputs": [],
   "source": [
    "add_images(categories_1, 4)\n",
    "add_images(categories_2, 3)\n",
    "add_images(categories_3, 2)\n",
    "add_images(categories_4, 1)"
   ]
  },
  {
   "cell_type": "code",
   "execution_count": 6,
   "metadata": {},
   "outputs": [],
   "source": [
    "import random\n",
    "for category in categories_5:\n",
    "    os.mkdir(os.path.join(out_folder, category))\n",
    "    files = os.listdir(os.path.join(folder, category))\n",
    "    for i in range(5000*x):\n",
    "        file = files.pop(random.randrange(len(files)))\n",
    "        shutil.copy(os.path.join(folder, category, file), os.path.join(out_folder, category))"
   ]
  }
 ],
 "metadata": {
  "kernelspec": {
   "display_name": "Python 3",
   "language": "python",
   "name": "python3"
  },
  "language_info": {
   "codemirror_mode": {
    "name": "ipython",
    "version": 3
   },
   "file_extension": ".py",
   "mimetype": "text/x-python",
   "name": "python",
   "nbconvert_exporter": "python",
   "pygments_lexer": "ipython3",
   "version": "3.5.2"
  }
 },
 "nbformat": 4,
 "nbformat_minor": 2
}
